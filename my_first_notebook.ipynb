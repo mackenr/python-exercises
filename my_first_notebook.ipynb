{
 "cells": [
  {
   "cell_type": "code",
   "execution_count": 11,
   "metadata": {},
   "outputs": [
    {
     "name": "stdout",
     "output_type": "stream",
     "text": [
      "False\n"
     ]
    }
   ],
   "source": [
    "isThisMyFirstNb= False\n",
    "print(isThisMyFirstNb)\n",
    "\n"
   ]
  },
  {
   "cell_type": "markdown",
   "metadata": {},
   "source": [
    "I like to write in $Latex$ I need to learn more Md syntax\n",
    "$$ e^{i\\pi}+1=0$$"
   ]
  },
  {
   "cell_type": "code",
   "execution_count": 12,
   "metadata": {},
   "outputs": [],
   "source": [
    "## If you are outside the cell you can type cmd+return to create a new code cell (default to python but we can set up notebooks in other languages)\n",
    "## Which is how I created this cell."
   ]
  },
  {
   "cell_type": "markdown",
   "metadata": {},
   "source": [
    "In order to create a Markdown cell you need to do the same as above and then hit the esc key. After which you can hit m and then enter to start typing a markdown note. Which is what I did here."
   ]
  },
  {
   "cell_type": "code",
   "execution_count": 13,
   "metadata": {},
   "outputs": [
    {
     "name": "stdout",
     "output_type": "stream",
     "text": [
      "False\n"
     ]
    }
   ],
   "source": [
    "print(isThisMyFirstNb)"
   ]
  },
  {
   "cell_type": "markdown",
   "metadata": {},
   "source": [
    "Run all does not seem to have a keyborad shortcut but there is a button to click within VS code. Also you can run Jupyter within VS code."
   ]
  },
  {
   "cell_type": "markdown",
   "metadata": {},
   "source": [
    "In order to run a cell you can hit control+return\n",
    "Which is what I did above."
   ]
  },
  {
   "cell_type": "markdown",
   "metadata": {},
   "source": [
    "cmd+/ will comment/ uncomment our code (this is not a keycommand specific to jupyter notebooks but to VS code in general)"
   ]
  },
  {
   "cell_type": "code",
   "execution_count": null,
   "metadata": {},
   "outputs": [],
   "source": []
  }
 ],
 "metadata": {
  "interpreter": {
   "hash": "baeed1872d3d647b7b05b5c9267c91e927a047aa38b5942b2070263e11f98290"
  },
  "kernelspec": {
   "display_name": "Python 3.9.12 ('base')",
   "language": "python",
   "name": "python3"
  },
  "language_info": {
   "codemirror_mode": {
    "name": "ipython",
    "version": 3
   },
   "file_extension": ".py",
   "mimetype": "text/x-python",
   "name": "python",
   "nbconvert_exporter": "python",
   "pygments_lexer": "ipython3",
   "version": "3.9.12"
  },
  "orig_nbformat": 4
 },
 "nbformat": 4,
 "nbformat_minor": 2
}
