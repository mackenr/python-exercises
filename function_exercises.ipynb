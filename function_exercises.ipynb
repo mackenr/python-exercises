{
 "cells": [
  {
   "cell_type": "markdown",
   "metadata": {},
   "source": [
    "\n",
    "\n",
    "\n",
    "### Exercises\n",
    "***"
   ]
  },
  {
   "cell_type": "markdown",
   "metadata": {},
   "source": [
    "\n",
    "\n",
    "Create a file named function_exercises.py for this exercise. After creating each function specified below, write the necessary code in order to test your function.\n",
    "\n"
   ]
  },
  {
   "cell_type": "markdown",
   "metadata": {},
   "source": [
    "\n",
    "\n",
    "1.\n",
    "Define a function named is_two. It should accept one input and return True if the passed input is either the number or the string 2, False otherwise.\n"
   ]
  },
  {
   "cell_type": "code",
   "execution_count": 1,
   "metadata": {},
   "outputs": [],
   "source": [
    "def is_two(x):\n",
    "    x=(int(x))\n",
    "    if x==2:\n",
    "        return True\n",
    "    else:\n",
    "        return False\n"
   ]
  },
  {
   "cell_type": "markdown",
   "metadata": {},
   "source": [
    "\n",
    "\n",
    "2.\n",
    "Define a function named is_vowel. It should return True if the passed string is a vowel, False otherwise.\n"
   ]
  },
  {
   "cell_type": "code",
   "execution_count": 14,
   "metadata": {},
   "outputs": [],
   "source": [
    "def is_vowel(x):\n",
    "    if len(x)==1 and type(x) == str:\n",
    "        x=x.lower()\n",
    "        vowels=['a','e','i','o','u']\n",
    "        for v in vowels:\n",
    "            if x==v:\n",
    "                return True\n",
    "            else:\n",
    "                False\n"
   ]
  },
  {
   "cell_type": "markdown",
   "metadata": {},
   "source": [
    "\n",
    "3.\n",
    "Define a function named is_consonant. It should return True if the passed string is a consonant, False \n",
    "otherwise. Use your is_vowel function to accomplish this.\n"
   ]
  },
  {
   "cell_type": "code",
   "execution_count": 3,
   "metadata": {},
   "outputs": [],
   "source": [
    "def is_consonant(x):\n",
    "    return not is_vowel(x)"
   ]
  },
  {
   "cell_type": "markdown",
   "metadata": {},
   "source": [
    "\n",
    "4.\n",
    "Define a function that accepts a string that is a word. The function should capitalize the first letter \n",
    "of the word if the word starts with a consonant.\n"
   ]
  },
  {
   "cell_type": "code",
   "execution_count": 4,
   "metadata": {},
   "outputs": [
    {
     "name": "stdout",
     "output_type": "stream",
     "text": [
      "Richardmacken\n"
     ]
    }
   ],
   "source": [
    "def capital_cosonant(x):\n",
    "    if type(x) == str and is_consonant(x[0]):\n",
    "        x=x[0].upper()+x[1:]\n",
    "        return x\n",
    "\n",
    "x=\"richardmacken\" \n",
    "print(capital_cosonant(x))"
   ]
  },
  {
   "cell_type": "markdown",
   "metadata": {},
   "source": [
    "\n",
    "5.\n",
    "Define a function named calculate_tip. It should accept a tip percentage (a number between 0 and 1) and \n",
    "the bill total, and return the amount to tip.\n"
   ]
  },
  {
   "cell_type": "code",
   "execution_count": 5,
   "metadata": {},
   "outputs": [],
   "source": [
    "\n",
    "def calculate_tip(bill,tip_percent=.2):\n",
    "    if tip_percent>0 and tip_percent<1:\n",
    "        tip=bill*tip_percent\n",
    "        return tip\n",
    "\n"
   ]
  },
  {
   "cell_type": "markdown",
   "metadata": {},
   "source": [
    "6.\n",
    "\n",
    "Define a function named apply_discount. It should accept a original price, and a discount percentage, \n",
    "and return the price after the discount is applied.\n"
   ]
  },
  {
   "cell_type": "code",
   "execution_count": 6,
   "metadata": {},
   "outputs": [],
   "source": [
    "def apply_discount(price,discout_percent=0.0):\n",
    "    applied_dis= price(1-discout_percent)\n",
    "    return applied_dis"
   ]
  },
  {
   "cell_type": "markdown",
   "metadata": {},
   "source": [
    "\n",
    "7.\n",
    "Define a function named handle_commas. It should accept a string that is a number that contains commas \n",
    "in it as input, and return a number as output.\n"
   ]
  },
  {
   "cell_type": "code",
   "execution_count": 7,
   "metadata": {},
   "outputs": [
    {
     "name": "stdout",
     "output_type": "stream",
     "text": [
      "0\n",
      "(1000000, <class 'int'>)\n"
     ]
    }
   ],
   "source": [
    "\n",
    "\n",
    "\n",
    "# misread the problem\n",
    "def count_commas(x):\n",
    "    commas=[i for i in x if i==',']\n",
    "    return len(commas)\n",
    "\n",
    " \n",
    "print(count_commas(x))\n",
    "\n",
    "# actual problem\n",
    "def handle_commas(x):\n",
    "    x=int(x.replace(',',''))\n",
    "    \n",
    "    return x,type(x)\n",
    "x='1,000,000'\n",
    "print(handle_commas(x))"
   ]
  },
  {
   "cell_type": "markdown",
   "metadata": {},
   "source": [
    "8.\n",
    "\n",
    "Define a function named get_letter_grade. It should accept a number and return the letter grade \n",
    "associated with that number (A-F).\n"
   ]
  },
  {
   "cell_type": "code",
   "execution_count": null,
   "metadata": {},
   "outputs": [],
   "source": []
  },
  {
   "cell_type": "code",
   "execution_count": 8,
   "metadata": {},
   "outputs": [],
   "source": [
    "def get_letter_grade(x):\n",
    "    a=any( [i for i in range(88,101)if x==i])\n",
    "    b=any( [i for i in range(80,88)if x==i])\n",
    "    c=any( [i for i in range(67,80)if x==i])\n",
    "    d=any( [i for i in range(60,67)if x==i])\n",
    "    f=any( [i for i in range(0,60)if x==i])\n",
    "\n",
    "    if a:\n",
    "        return 'A'\n",
    "    elif b:\n",
    "        return 'B'\n",
    "    elif c:\n",
    "        return 'C'\n",
    "    elif d:\n",
    "        return 'D'\n",
    "    elif f:\n",
    "        return 'F'\n"
   ]
  },
  {
   "cell_type": "markdown",
   "metadata": {},
   "source": [
    "9.\n",
    "\n",
    "Define a function named remove_vowels that accepts a string and returns a string with all the vowels \n",
    "removed.\n"
   ]
  },
  {
   "cell_type": "code",
   "execution_count": 9,
   "metadata": {},
   "outputs": [
    {
     "name": "stdout",
     "output_type": "stream",
     "text": [
      "RchrdMckn\n"
     ]
    }
   ],
   "source": [
    "def remove_vowels(x):\n",
    "    if type(x)== str:\n",
    "        vowels_to_remove=[x[i] for i in range(len(x)) if is_vowel(x[i])]\n",
    "        for v in vowels_to_remove:\n",
    "            x=x.replace(v,'')\n",
    "        return x\n",
    "    else:\n",
    "        return \"Not a string\"\n",
    "x='RichardMacken'\n",
    "print(remove_vowels(x))"
   ]
  },
  {
   "cell_type": "markdown",
   "metadata": {},
   "source": [
    "10.\n",
    "\n",
    "Define a function named normalize_name. It should accept a string and return a valid python identifier, \n",
    "that is:\n",
    "- anything that is not a valid python identifier should be removed\n",
    "- leading and trailing whitespace should be removed\n",
    "- everything should be lowercase\n",
    "- spaces should be replaced with underscores\n",
    "- for example:\n",
    "Name will become name\n",
    "First Name will become first_name\n",
    "% Completed will become completed\n"
   ]
  },
  {
   "cell_type": "code",
   "execution_count": 10,
   "metadata": {},
   "outputs": [
    {
     "name": "stdout",
     "output_type": "stream",
     "text": [
      "_234hello\n"
     ]
    }
   ],
   "source": [
    "\n",
    "def normalize_name(x):\n",
    "    x=str(x)\n",
    "    x=x.strip()\n",
    "    x=x.lower()\n",
    "    x=x.replace(\" \",\"_\")\n",
    "    chars=[str(chr(i)) for i in range(97,123)]\n",
    "    chars.append(str('_'))\n",
    "    nums=[str(i) for i in range(0,10)]\n",
    "    chars=chars+nums\n",
    "    to_remove=[i for i in range(len(x)) if (any(c for c in chars if x[i]==c)==False)]\n",
    "   \n",
    "\n",
    "    for t in to_remove:\n",
    "        x=x.replace(x[t],' ')\n",
    "        x=x.strip()\n",
    "        x=x.replace(\" \",\"_\")\n",
    "\n",
    "    \n",
    "    while x[0].isnumeric() and len(x)>=0:\n",
    "        x=x[1:]\n",
    "        \n",
    "\n",
    "    return x\n",
    "\n",
    "\n",
    "print(normalize_name('   %34_234Hello'))\n",
    "\n",
    "\n",
    "\n"
   ]
  },
  {
   "cell_type": "markdown",
   "metadata": {},
   "source": [
    "11.\n",
    "\n",
    "Write a function named cumulative_sum that accepts a list of numbers and returns a list that is the cumulative sum of the numbers in the list.\n",
    "cumulative_sum([1, 1, 1]) returns [1, 2, 3]\n",
    "cumulative_sum([1, 2, 3, 4]) returns [1, 3, 6, 10]\n",
    "\n",
    "\n"
   ]
  },
  {
   "cell_type": "code",
   "execution_count": 11,
   "metadata": {},
   "outputs": [
    {
     "name": "stdout",
     "output_type": "stream",
     "text": [
      "[1, 3, 6, 10, 15]\n",
      "[1, 3, 6, 10, 15]\n"
     ]
    }
   ],
   "source": [
    "def cumulative_sum(x):\n",
    "    sum_x=0\n",
    "    n_list=[]\n",
    "    for i in x:\n",
    "        sum_x+=i\n",
    "        n_list.append(sum_x)\n",
    "    return n_list\n",
    "\n",
    "nms=[1,2,3,4,5]\n",
    "print(cumulative_sum(nms))\n",
    "\n",
    "def cumulative_sum(x):\n",
    "    n_list=[sum(x[:i])for i in x]\n",
    "    return n_list\n",
    "    \n",
    "print(cumulative_sum(nms))"
   ]
  },
  {
   "cell_type": "markdown",
   "metadata": {},
   "source": [
    "\n",
    "\n",
    "Additional Exercise\n",
    "\n",
    "Once you've completed the above exercises, follow the directions from https://gist.github.com/zgulde/ec8ed80ad8216905cda83d5645c60886 in order to thouroughly comment your code to explain your code.\n",
    "\n"
   ]
  },
  {
   "cell_type": "code",
   "execution_count": null,
   "metadata": {},
   "outputs": [],
   "source": []
  },
  {
   "cell_type": "markdown",
   "metadata": {},
   "source": [
    "\n",
    "###  Bonus\n",
    "\n",
    "- Create a function named twelveto24. It should accept a string in the format 10:45am or 4:30pm and return a string that is the representation of the time in a 24-hour format. Bonus write a function that does the opposite.\n",
    "\n",
    "\n"
   ]
  },
  {
   "cell_type": "code",
   "execution_count": null,
   "metadata": {},
   "outputs": [],
   "source": []
  },
  {
   "cell_type": "code",
   "execution_count": 12,
   "metadata": {},
   "outputs": [
    {
     "name": "stdout",
     "output_type": "stream",
     "text": [
      "24:00\n",
      "2:00pm\n"
     ]
    }
   ],
   "source": [
    "#strip of the pm/am from the string if pm add 12\n",
    "def twelveto24(x):\n",
    "    x=x.lower()\n",
    "    am_index=x.find(\"am\")\n",
    "    pm_index=x.find(\"pm\")\n",
    "    if am_index >=0:\n",
    "        x=x[:am_index]\n",
    "        return x\n",
    "    elif pm_index >=0:\n",
    "        x=x[:pm_index]\n",
    "        #00:00\n",
    "        hour= int(x[:2])\n",
    "        min=(x[3:5])\n",
    "        hour+=12\n",
    "        hour=str(hour)\n",
    "        mil_time= hour + ':'+min\n",
    "        return mil_time\n",
    "x=\"12:00pm\"\n",
    "print(twelveto24(x))\n",
    "\n",
    "#if greater than 12 hour mod 12 add pm\n",
    "def mil_to_civ_time(x):\n",
    "    hour= int(x[:2])\n",
    "    c=':'\n",
    "    if hour >12:\n",
    "        hour=str(hour%12)\n",
    "        time= hour+c+ x[3:6]+ 'pm'\n",
    "        return time\n",
    "    elif hour == 12:\n",
    "        hour=str(hour)\n",
    "        time= hour+c+ x[3:6]+ 'pm'\n",
    "        return time\n",
    "    else:\n",
    "        hour=str(hour)\n",
    "        time= hour+c+ x[3:6]+ 'am'\n",
    "        return time\n",
    "x='14:00'        \n",
    "print(mil_to_civ_time(x))\n",
    "    \n",
    "#if less than 12 add am"
   ]
  },
  {
   "cell_type": "markdown",
   "metadata": {},
   "source": [
    "- Create a function named col_index. It should accept a spreadsheet column name, and return the index number of the column.\n",
    "col_index('A') returns 1\n",
    "col_index('B') returns 2\n",
    "col_index('AA') returns 27\n"
   ]
  },
  {
   "cell_type": "code",
   "execution_count": 13,
   "metadata": {},
   "outputs": [
    {
     "name": "stdout",
     "output_type": "stream",
     "text": [
      "27\n"
     ]
    }
   ],
   "source": [
    "\n",
    "\n",
    "user_imp=\"AA\"\n",
    "def col_index():\n",
    "    x=[]\n",
    "    count=0\n",
    "    unicode_array=[i for i in range(97,123)]\n",
    "    adder= [i for i in range(0,26)]\n",
    "    for im in user_imp:\n",
    "        im=im.lower()\n",
    "        im=ord(im)\n",
    "        for a in adder:\n",
    "            if im==unicode_array[a]:\n",
    "                x.append(adder[a]+1)#remember that you don't save append to a variable you just call it\n",
    "                count+=1\n",
    "    if count == 1:\n",
    "        x=x[0]\n",
    "        return x\n",
    "    else:\n",
    "        for i in range(1,len(x)):\n",
    "            x[i]=x[i]+26\n",
    "        x=sum(x)-count+1\n",
    "        return x\n",
    "\n",
    "\n",
    "# for u in user_imp:\n",
    "#     if \n"
   ]
  }
 ],
 "metadata": {
  "interpreter": {
   "hash": "baeed1872d3d647b7b05b5c9267c91e927a047aa38b5942b2070263e11f98290"
  },
  "kernelspec": {
   "display_name": "Python 3.9.12 ('base')",
   "language": "python",
   "name": "python3"
  },
  "language_info": {
   "codemirror_mode": {
    "name": "ipython",
    "version": 3
   },
   "file_extension": ".py",
   "mimetype": "text/x-python",
   "name": "python",
   "nbconvert_exporter": "python",
   "pygments_lexer": "ipython3",
   "version": "3.9.12"
  },
  "orig_nbformat": 4
 },
 "nbformat": 4,
 "nbformat_minor": 2
}
