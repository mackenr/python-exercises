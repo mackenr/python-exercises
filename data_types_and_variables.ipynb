{
 "cells": [
  {
   "cell_type": "code",
   "execution_count": 41,
   "metadata": {},
   "outputs": [
    {
     "name": "stdout",
     "output_type": "stream",
     "text": [
      "$27.00\n"
     ]
    }
   ],
   "source": [
    "litte_mermaid=3\n",
    "bro_bear=5\n",
    "hercules=1\n",
    "price_per_day=3\n",
    "total_price=(litte_mermaid+bro_bear+hercules)*price_per_day\n",
    "print(f'${total_price}.00')\n",
    "\n",
    "\n"
   ]
  },
  {
   "cell_type": "code",
   "execution_count": 40,
   "metadata": {},
   "outputs": [
    {
     "name": "stdout",
     "output_type": "stream",
     "text": [
      "$2,400.00\n",
      "$1,520.00\n",
      "$3,500.00\n"
     ]
    }
   ],
   "source": [
    "\n",
    "pay=[400,380,350]## (google,amazon,fb)\n",
    "hours=[6,4,10]## (google,amazon,fb)\n",
    "result=[]\n",
    "for i in range(len(pay)):\n",
    "    result.append(str(f'${(pay[i]*hours[i]):,.2f}'))\n",
    "    print(result[i])\n",
    "\n",
    "\n",
    "\n",
    "\n",
    "\n",
    "\n",
    "\n",
    "\n",
    "\n",
    "\n",
    "\n",
    "\n",
    "\n",
    "\n",
    "\n"
   ]
  },
  {
   "cell_type": "markdown",
   "metadata": {},
   "source": [
    "Alphabet:   $2,400.00\n",
    "Bezos:      $1,520.00\n",
    "Meta:       $3,500.00"
   ]
  },
  {
   "cell_type": "code",
   "execution_count": 61,
   "metadata": {},
   "outputs": [
    {
     "name": "stdout",
     "output_type": "stream",
     "text": [
      "I can not attend this class\n"
     ]
    }
   ],
   "source": [
    "full= True\n",
    "confict=False\n",
    "attend=full and confict\n",
    "result= 'can' if result == True else 'can not'\n",
    "print(f'I {result} attend this class')\n",
    "\n",
    "\n"
   ]
  },
  {
   "cell_type": "code",
   "execution_count": 45,
   "metadata": {},
   "outputs": [
    {
     "name": "stdout",
     "output_type": "stream",
     "text": [
      "True\n"
     ]
    }
   ],
   "source": [
    "items_bought=3\n",
    "offer_exp=False\n",
    "offer_applied= (items_bought>2) and (offer_exp != True)\n",
    "print(offer_applied)\n",
    "\n"
   ]
  },
  {
   "cell_type": "code",
   "execution_count": 58,
   "metadata": {},
   "outputs": [
    {
     "name": "stdout",
     "output_type": "stream",
     "text": [
      "Password must have at least 5 characters\n"
     ]
    }
   ],
   "source": [
    "username = 'codeup'\n",
    "password = 'notastrongpassword'\n",
    "\n",
    "password_len_check= len(password)>=5\n",
    "username_len_check=len(username)<=20\n",
    "not_same_check= (password==username)==False\n",
    "front_space=' this has a frontspace'\n",
    "back_space='this has a backspace '\n",
    "\n",
    "\n",
    "space_check = username[-1].isspace() or username[0].isspace() or password[-1].isspace() or password[0].isspace()\n",
    "\n",
    "def full_check(username,password):\n",
    "    count=0\n",
    "    if password_len_check ==False:\n",
    "        print(\"Password must have at least 5 characters\")\n",
    "        count+=count\n",
    "    elif username_len_check is False:\n",
    "        print(\"Username must have less than 20 charaters\")\n",
    "        count+=count\n",
    "    elif not_same_check == False: \n",
    "        print('Password and Username cannot be the same')\n",
    "        count+=count\n",
    "    elif space_check==True:\n",
    "        print('Username and Password cannot have leading or trailing whitespace ')\n",
    "        count+=count\n",
    "\n",
    "    elif count== 0:\n",
    "        print('Username and password choosen sucessfully')\n",
    "    \n",
    "# already overboard but could ask for user input and then a while loop untill they get it right\n",
    "# or x amount of iterations happen\n",
    "\n",
    "full_check(username,password)"
   ]
  },
  {
   "cell_type": "code",
   "execution_count": null,
   "metadata": {},
   "outputs": [],
   "source": []
  },
  {
   "cell_type": "code",
   "execution_count": null,
   "metadata": {},
   "outputs": [],
   "source": []
  },
  {
   "cell_type": "code",
   "execution_count": null,
   "metadata": {},
   "outputs": [],
   "source": []
  },
  {
   "cell_type": "code",
   "execution_count": null,
   "metadata": {},
   "outputs": [],
   "source": []
  }
 ],
 "metadata": {
  "interpreter": {
   "hash": "baeed1872d3d647b7b05b5c9267c91e927a047aa38b5942b2070263e11f98290"
  },
  "kernelspec": {
   "display_name": "Python 3.9.12 ('base')",
   "language": "python",
   "name": "python3"
  },
  "language_info": {
   "codemirror_mode": {
    "name": "ipython",
    "version": 3
   },
   "file_extension": ".py",
   "mimetype": "text/x-python",
   "name": "python",
   "nbconvert_exporter": "python",
   "pygments_lexer": "ipython3",
   "version": "3.9.12"
  },
  "orig_nbformat": 4
 },
 "nbformat": 4,
 "nbformat_minor": 2
}
